{
 "cells": [
  {
   "cell_type": "code",
   "execution_count": 4,
   "metadata": {},
   "outputs": [
    {
     "name": "stdout",
     "output_type": "stream",
     "text": [
      "keras = 2.2.4\n",
      "tensorflow-gpu = 1.13.1\n",
      "\n",
      "Configurations:\n",
      "arch                           Vnet\n",
      "batch_size                     16\n",
      "data                           /mnt/dataset/shared/zongwei/LIDC\n",
      "exp_name                       Vnet-genesis\n",
      "input_cols                     64\n",
      "input_deps                     32\n",
      "input_rows                     64\n",
      "logs_path                      models/ncs/run_1/logs\n",
      "lr                             0.001\n",
      "max_queue_size                 1\n",
      "model_path                     models/ncs/run_1\n",
      "nb_epoch                       10000\n",
      "optimizer                      adam\n",
      "patience                       50\n",
      "verbose                        1\n",
      "weights                        pretrained_weights/Genesis_Chest_CT.h5\n",
      "workers                        1\n",
      "\n",
      "\n"
     ]
    }
   ],
   "source": [
    "#!/usr/bin/env python\n",
    "# coding: utf-8\n",
    "from __future__ import print_function\n",
    "import warnings\n",
    "warnings.filterwarnings('ignore')\n",
    "import os\n",
    "os.environ['TF_CPP_MIN_LOG_LEVEL'] = '3'  # or any {'0', '1', '2'}\n",
    "import keras\n",
    "print(\"keras = {}\".format(keras.__version__))\n",
    "import tensorflow as tf\n",
    "print(\"tensorflow-gpu = {}\".format(tf.__version__))\n",
    "try:\n",
    "    tf.compat.v1.logging.set_verbosity(tf.compat.v1.logging.ERROR)\n",
    "except:\n",
    "    pass\n",
    "import random\n",
    "import shutil\n",
    "import argparse\n",
    "import sklearn\n",
    "from pathlib import Path\n",
    "from utils import *\n",
    "from unet3d import *\n",
    "from config import *\n",
    "\n",
    "class set_args():\n",
    "    gpu = 0\n",
    "    data = None\n",
    "    apps = 'ncs'\n",
    "    run = 1\n",
    "    cv = None\n",
    "    subsetting = None\n",
    "    suffix = 'genesis'\n",
    "    task = 'segmentation'\n",
    "    \n",
    "args = set_args()\n",
    "\n",
    "if args.gpu is not None:\n",
    "    os.environ[\"CUDA_VISIBLE_DEVICES\"] = str(args.gpu)\n",
    "    \n",
    "from ncs_data import *\n",
    "conf = ncs_config(args)\n",
    "\n",
    "conf.display()"
   ]
  },
  {
   "cell_type": "code",
   "execution_count": null,
   "metadata": {},
   "outputs": [
    {
     "name": "stdout",
     "output_type": "stream",
     "text": [
      "x_train: (4082, 1, 64, 64, 32) | 0.0 ~ 1.0\n",
      "y_train: (4082, 1, 64, 64, 32) | 0 ~ 1\n",
      "x_valid: (3126, 1, 64, 64, 32) | 0.0 ~ 1.0\n",
      "y_valid: (3126, 1, 64, 64, 32) | 0 ~ 1\n",
      "[INFO] Load pre-trained weights from pretrained_weights/Genesis_Chest_CT.h5\n",
      "Train on 4082 samples, validate on 3126 samples\n",
      "Epoch 1/10000\n",
      "\n",
      "> Batch size = 14\n",
      "Train on 4082 samples, validate on 3126 samples\n",
      "Epoch 1/10000\n",
      "1036/4082 [======>.......................] - ETA: 7:37 - loss: 0.4391 - mean_iou: 0.6119 - dice_coef: 0.5609\n",
      "> Batch size = 12\n",
      "Train on 4082 samples, validate on 3126 samples\n",
      "Epoch 1/10000\n",
      " 504/4082 [==>...........................] - ETA: 8:38 - loss: 0.3124 - mean_iou: 0.6811 - dice_coef: 0.6876"
     ]
    }
   ],
   "source": [
    "x_train, y_train = load_image(conf, 'train')\n",
    "print('x_train: {} | {} ~ {}'.format(x_train.shape, np.min(x_train), np.max(x_train)))\n",
    "print('y_train: {} | {} ~ {}'.format(y_train.shape, np.min(y_train), np.max(y_train)))\n",
    "\n",
    "x_valid, y_valid = load_image(conf, 'valid')\n",
    "print('x_valid: {} | {} ~ {}'.format(x_valid.shape, np.min(x_valid), np.max(x_valid)))\n",
    "print('y_valid: {} | {} ~ {}'.format(y_valid.shape, np.min(y_valid), np.max(y_valid)))\n",
    "\n",
    "model = unet_model_3d((1,conf.input_rows,conf.input_cols,conf.input_deps), batch_normalization=True)\n",
    "if conf.weights is not None:\n",
    "    print(\"[INFO] Load pre-trained weights from {}\".format(conf.weights))\n",
    "    model.load_weights(conf.weights)\n",
    "model, callbacks = model_setup(model, conf, task=args.task)\n",
    "\n",
    "while conf.batch_size > 1:\n",
    "    # To find a largest batch size that can be fit into GPU\n",
    "    try:\n",
    "        model.fit(x_train, y_train,\n",
    "                  validation_data=(x_valid, y_valid),\n",
    "                  batch_size=conf.batch_size,\n",
    "                  epochs=conf.nb_epoch, \n",
    "                  verbose=conf.verbose, \n",
    "                  shuffle=True,\n",
    "                  callbacks=callbacks)\n",
    "        break\n",
    "    except tf.errors.ResourceExhaustedError as e:\n",
    "        conf.batch_size = int(conf.batch_size - 2)\n",
    "        print(\"\\n> Batch size = {}\".format(conf.batch_size))"
   ]
  },
  {
   "cell_type": "code",
   "execution_count": null,
   "metadata": {},
   "outputs": [],
   "source": [
    "model = unet_model_3d((1,conf.input_rows,conf.input_cols,conf.input_deps), batch_normalization=True)\n",
    "print(\"[INFO] Load trained model from {}\".format( os.path.join(conf.model_path, conf.exp_name+\".h5\") ))\n",
    "model.load_weights( os.path.join(conf.model_path, conf.exp_name+\".h5\") )\n",
    "\n",
    "x_test, y_test = load_image(conf, 'test')\n",
    "print('x_test: {} | {} ~ {}'.format(x_test.shape, np.min(x_test), np.max(x_test)))\n",
    "print('y_test: {} | {} ~ {}'.format(y_test.shape, np.min(y_test), np.max(y_test)))\n",
    "\n",
    "segmentation_model_evaluation(model=model, config=conf, x=x_test, y=y_test, note=conf.exp_name)"
   ]
  }
 ],
 "metadata": {
  "kernelspec": {
   "display_name": "Python 3",
   "language": "python",
   "name": "python3"
  },
  "language_info": {
   "codemirror_mode": {
    "name": "ipython",
    "version": 3
   },
   "file_extension": ".py",
   "mimetype": "text/x-python",
   "name": "python",
   "nbconvert_exporter": "python",
   "pygments_lexer": "ipython3",
   "version": "3.6.12"
  }
 },
 "nbformat": 4,
 "nbformat_minor": 4
}
