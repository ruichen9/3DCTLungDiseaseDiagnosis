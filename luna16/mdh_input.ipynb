{
 "cells": [
  {
   "cell_type": "code",
   "execution_count": 1,
   "metadata": {},
   "outputs": [],
   "source": [
    "import csv\n",
    "import os\n",
    "import matplotlib.pyplot as plt\n",
    "import numpy as np\n",
    "import SimpleITK as sitk\n",
    "from PIL import Image\n",
    "\n",
    "%matplotlib inline\n",
    "\n",
    "\n",
    "def load_itk_image(filename):\n",
    "    with open(filename) as f:\n",
    "        contents = f.readlines()\n",
    "        line = [k for k in contents if k.startswith(\"TransformMatrix\")][0]\n",
    "        transform = np.array(line.split(\" = \")[1].split(\" \")).astype(\"float\")\n",
    "        transform = np.round(transform)\n",
    "        if np.any(transform != np.array([1, 0, 0, 0, 1, 0, 0, 0, 1])):\n",
    "            isflip = True\n",
    "        else:\n",
    "            isflip = False\n",
    "    itkimage = sitk.ReadImage(filename)\n",
    "    numpyimage = sitk.GetArrayFromImage(itkimage)\n",
    "    if isflip == True:\n",
    "        numpyimage = numpyimage[:, ::-1, ::-1]\n",
    "    numpyOrigin = np.array(list(itkimage.GetOrigin()))  # CT原点坐标\n",
    "    numpySpacing = np.array(list(itkimage.GetSpacing()))  # CT像素间隔\n",
    "    return numpyimage, numpyOrigin, numpySpacing\n",
    "\n",
    "\n",
    "def worldToVoxelCoord(worldCoord, origin, spacing):\n",
    "    stretchedVoxelCoord = np.absolute(worldCoord - origin)\n",
    "    voxelCoord = stretchedVoxelCoord / spacing\n",
    "    return voxelCoord\n",
    "\n",
    "\n",
    "def normalizePlanes(npzarray):\n",
    "    maxHU = 400.0\n",
    "    minHU = -1000.0\n",
    "    npzarray = (npzarray - minHU) / (maxHU - minHU)\n",
    "    npzarray[npzarray > 1] = 1.0\n",
    "    npzarray[npzarray < 0] = 0.0\n",
    "    return npzarray\n",
    "\n",
    "\n",
    "#########################################################\n",
    "def truncate_hu(image_array):\n",
    "    image_array[image_array > 400] = 0\n",
    "    image_array[image_array < -1000] = 0\n",
    "\n",
    "\n",
    "def normalization(image_array):\n",
    "    ImgArrmax = image_array.max()\n",
    "    ImgArrmin = image_array.min()\n",
    "    image_array = (image_array - ImgArrmin) / (ImgArrmax - ImgArrmin)\n",
    "    avg = image_array.mean()\n",
    "    image_array = image_array - avg\n",
    "    return image_array"
   ]
  },
  {
   "cell_type": "code",
   "execution_count": 82,
   "metadata": {},
   "outputs": [
    {
     "data": {
      "text/plain": [
       "array([[[0, 0, 0, ..., 0, 0, 0],\n",
       "        [0, 0, 0, ..., 0, 0, 0],\n",
       "        [0, 0, 0, ..., 0, 0, 0],\n",
       "        ...,\n",
       "        [0, 0, 0, ..., 0, 0, 0],\n",
       "        [0, 0, 0, ..., 0, 0, 0],\n",
       "        [0, 0, 0, ..., 0, 0, 0]],\n",
       "\n",
       "       [[0, 0, 0, ..., 0, 0, 0],\n",
       "        [0, 0, 0, ..., 0, 0, 0],\n",
       "        [0, 0, 0, ..., 0, 0, 0],\n",
       "        ...,\n",
       "        [0, 0, 0, ..., 0, 0, 0],\n",
       "        [0, 0, 0, ..., 0, 0, 0],\n",
       "        [0, 0, 0, ..., 0, 0, 0]],\n",
       "\n",
       "       [[0, 0, 0, ..., 0, 0, 0],\n",
       "        [0, 0, 0, ..., 0, 0, 0],\n",
       "        [0, 0, 0, ..., 0, 0, 0],\n",
       "        ...,\n",
       "        [0, 0, 0, ..., 0, 0, 0],\n",
       "        [0, 0, 0, ..., 0, 0, 0],\n",
       "        [0, 0, 0, ..., 0, 0, 0]],\n",
       "\n",
       "       ...,\n",
       "\n",
       "       [[0, 0, 0, ..., 0, 0, 0],\n",
       "        [0, 0, 0, ..., 0, 0, 0],\n",
       "        [0, 0, 0, ..., 0, 0, 0],\n",
       "        ...,\n",
       "        [0, 0, 0, ..., 0, 0, 0],\n",
       "        [0, 0, 0, ..., 0, 0, 0],\n",
       "        [0, 0, 0, ..., 0, 0, 0]],\n",
       "\n",
       "       [[0, 0, 0, ..., 0, 0, 0],\n",
       "        [0, 0, 0, ..., 0, 0, 0],\n",
       "        [0, 0, 0, ..., 0, 0, 0],\n",
       "        ...,\n",
       "        [0, 0, 0, ..., 0, 0, 0],\n",
       "        [0, 0, 0, ..., 0, 0, 0],\n",
       "        [0, 0, 0, ..., 0, 0, 0]],\n",
       "\n",
       "       [[0, 0, 0, ..., 0, 0, 0],\n",
       "        [0, 0, 0, ..., 0, 0, 0],\n",
       "        [0, 0, 0, ..., 0, 0, 0],\n",
       "        ...,\n",
       "        [0, 0, 0, ..., 0, 0, 0],\n",
       "        [0, 0, 0, ..., 0, 0, 0],\n",
       "        [0, 0, 0, ..., 0, 0, 0]]], dtype=int16)"
      ]
     },
     "execution_count": 82,
     "metadata": {},
     "output_type": "execute_result"
    }
   ],
   "source": [
    "img_path = \"data/subset0/1.3.6.1.4.1.14519.5.2.1.6279.6001.122763913896761494371822656720.mhd\"\n",
    "npimg1, nporg1, npspc1 = load_itk_image(img_path)\n",
    "truncate_hu(npimg1)\n",
    "# image_array = normalization(npimg1)\n",
    "npimg1"
   ]
  },
  {
   "cell_type": "code",
   "execution_count": 30,
   "metadata": {},
   "outputs": [
    {
     "name": "stdout",
     "output_type": "stream",
     "text": [
      "[-100.5679445    67.26051683 -231.816619  ]\n",
      "[128.04205092 344.30087843  41.3573488 ]\n"
     ]
    }
   ],
   "source": [
    "def readCSV(filename):\n",
    "    lines = []\n",
    "    with open(filename, \"r\") as f:\n",
    "        csvreader = csv.reader(f)\n",
    "        for line in csvreader:\n",
    "            lines.append(line)\n",
    "    return lines\n",
    "\n",
    "\n",
    "anno_path = \"data/CSVFILES/annotations.csv\"\n",
    "annos = readCSV(anno_path)\n",
    "cand = annos[24]\n",
    "\n",
    "worldCoord = np.asarray([float(cand[1]), float(cand[2]), float(cand[3])])\n",
    "voxelCoord = worldToVoxelCoord(worldCoord, nporg1, npspc1)\n",
    "\n",
    "print(worldCoord)\n",
    "print(voxelCoord)"
   ]
  }
 ],
 "metadata": {
  "kernelspec": {
   "display_name": "Python [conda env:MedImg] *",
   "language": "python",
   "name": "conda-env-MedImg-py"
  },
  "language_info": {
   "codemirror_mode": {
    "name": "ipython",
    "version": 3
   },
   "file_extension": ".py",
   "mimetype": "text/x-python",
   "name": "python",
   "nbconvert_exporter": "python",
   "pygments_lexer": "ipython3",
   "version": "3.7.9"
  }
 },
 "nbformat": 4,
 "nbformat_minor": 4
}
